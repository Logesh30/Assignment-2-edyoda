{
 "cells": [
  {
   "cell_type": "markdown",
   "id": "53caf5fd",
   "metadata": {},
   "source": [
    "Write a Python program to get a list, sorted in increasing order by the last element in each tuple from a given list of non-empty tuples\n",
    "\n",
    "\n",
    "\n",
    "Sample List : [(2, 5), (1, 2), (4, 4), (2, 3), (2, 1)]\n",
    "\n",
    "Expected Result : [(2, 1), (1, 2), (2, 3), (4, 4), (2, 5)]\n",
    "\n"
   ]
  },
  {
   "cell_type": "code",
   "execution_count": 1,
   "id": "cf240846",
   "metadata": {},
   "outputs": [
    {
     "name": "stdout",
     "output_type": "stream",
     "text": [
      "[(2, 1), (1, 2), (3, 3), (4, 5), (8, 9), (11, 10), (8, 34)]\n"
     ]
    }
   ],
   "source": [
    "def i(n): return n[-1]\n",
    "def sort_list_i(tuples):\n",
    "    return sorted(tuples, key=i)\n",
    "print(sort_list_i([(4,5),(1,2), (3,3) ,(8,34) ,(2,1) ,(8,9) ,(11,10)]))"
   ]
  },
  {
   "cell_type": "code",
   "execution_count": null,
   "id": "81969ec7",
   "metadata": {},
   "outputs": [],
   "source": []
  }
 ],
 "metadata": {
  "kernelspec": {
   "display_name": "Python 3 (ipykernel)",
   "language": "python",
   "name": "python3"
  },
  "language_info": {
   "codemirror_mode": {
    "name": "ipython",
    "version": 3
   },
   "file_extension": ".py",
   "mimetype": "text/x-python",
   "name": "python",
   "nbconvert_exporter": "python",
   "pygments_lexer": "ipython3",
   "version": "3.10.2"
  }
 },
 "nbformat": 4,
 "nbformat_minor": 5
}
